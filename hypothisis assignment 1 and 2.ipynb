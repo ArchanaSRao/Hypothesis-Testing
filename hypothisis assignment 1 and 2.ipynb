{
 "cells": [
  {
   "cell_type": "code",
   "execution_count": 1,
   "metadata": {},
   "outputs": [],
   "source": [
    "### whether there is any significant difference in the diameter of the cutlet between two units."
   ]
  },
  {
   "cell_type": "code",
   "execution_count": 2,
   "metadata": {},
   "outputs": [
    {
     "data": {
      "text/html": [
       "<div>\n",
       "<style scoped>\n",
       "    .dataframe tbody tr th:only-of-type {\n",
       "        vertical-align: middle;\n",
       "    }\n",
       "\n",
       "    .dataframe tbody tr th {\n",
       "        vertical-align: top;\n",
       "    }\n",
       "\n",
       "    .dataframe thead th {\n",
       "        text-align: right;\n",
       "    }\n",
       "</style>\n",
       "<table border=\"1\" class=\"dataframe\">\n",
       "  <thead>\n",
       "    <tr style=\"text-align: right;\">\n",
       "      <th></th>\n",
       "      <th>Unit A</th>\n",
       "      <th>Unit B</th>\n",
       "    </tr>\n",
       "  </thead>\n",
       "  <tbody>\n",
       "    <tr>\n",
       "      <th>0</th>\n",
       "      <td>6.8090</td>\n",
       "      <td>6.7703</td>\n",
       "    </tr>\n",
       "    <tr>\n",
       "      <th>1</th>\n",
       "      <td>6.4376</td>\n",
       "      <td>7.5093</td>\n",
       "    </tr>\n",
       "    <tr>\n",
       "      <th>2</th>\n",
       "      <td>6.9157</td>\n",
       "      <td>6.7300</td>\n",
       "    </tr>\n",
       "    <tr>\n",
       "      <th>3</th>\n",
       "      <td>7.3012</td>\n",
       "      <td>6.7878</td>\n",
       "    </tr>\n",
       "    <tr>\n",
       "      <th>4</th>\n",
       "      <td>7.4488</td>\n",
       "      <td>7.1522</td>\n",
       "    </tr>\n",
       "  </tbody>\n",
       "</table>\n",
       "</div>"
      ],
      "text/plain": [
       "   Unit A  Unit B\n",
       "0  6.8090  6.7703\n",
       "1  6.4376  7.5093\n",
       "2  6.9157  6.7300\n",
       "3  7.3012  6.7878\n",
       "4  7.4488  7.1522"
      ]
     },
     "execution_count": 2,
     "metadata": {},
     "output_type": "execute_result"
    }
   ],
   "source": [
    "import seaborn as sns\n",
    "import scipy as sp\n",
    "import pandas as pd\n",
    "import numpy as np\n",
    "import scipy.stats as stats\n",
    "df=pd.read_csv(\"C:/Users/khann/OneDrive/Desktop/excel r assignments/Cutlets.csv\")\n",
    "df.head()\n"
   ]
  },
  {
   "cell_type": "code",
   "execution_count": 3,
   "metadata": {},
   "outputs": [
    {
     "data": {
      "text/plain": [
       "array([[6.809 , 6.7703],\n",
       "       [6.4376, 7.5093],\n",
       "       [6.9157, 6.73  ],\n",
       "       [7.3012, 6.7878],\n",
       "       [7.4488, 7.1522],\n",
       "       [7.3871, 6.811 ],\n",
       "       [6.8755, 7.2212],\n",
       "       [7.0621, 6.6606],\n",
       "       [6.684 , 7.2402],\n",
       "       [6.8236, 7.0503],\n",
       "       [7.393 , 6.881 ],\n",
       "       [7.5169, 7.4059],\n",
       "       [6.9246, 6.7652],\n",
       "       [6.9256, 6.038 ],\n",
       "       [6.5797, 7.1581],\n",
       "       [6.8394, 7.024 ],\n",
       "       [6.597 , 6.6672],\n",
       "       [7.2705, 7.4314],\n",
       "       [7.2828, 7.307 ],\n",
       "       [7.3495, 6.7478],\n",
       "       [6.9438, 6.8889],\n",
       "       [7.156 , 7.422 ],\n",
       "       [6.5341, 6.5217],\n",
       "       [7.2854, 7.1688],\n",
       "       [6.9952, 6.7594],\n",
       "       [6.8568, 6.9399],\n",
       "       [7.2163, 7.0133],\n",
       "       [6.6801, 6.9182],\n",
       "       [6.9431, 6.3346],\n",
       "       [7.0852, 7.5459],\n",
       "       [6.7794, 7.0992],\n",
       "       [7.2783, 7.118 ],\n",
       "       [7.1561, 6.6965],\n",
       "       [7.3943, 6.578 ],\n",
       "       [6.9405, 7.3875]])"
      ]
     },
     "execution_count": 3,
     "metadata": {},
     "output_type": "execute_result"
    }
   ],
   "source": [
    "df.values"
   ]
  },
  {
   "cell_type": "code",
   "execution_count": 4,
   "metadata": {},
   "outputs": [
    {
     "data": {
      "text/plain": [
       "(0.4542834311598112,\n",
       " 1.0,\n",
       " 34,\n",
       " array([[6.81625543, 6.76304457],\n",
       "        [7.00077565, 6.94612435],\n",
       "        [6.84958552, 6.79611448],\n",
       "        [7.07210406, 7.01689594],\n",
       "        [7.32910721, 7.27189279],\n",
       "        [7.12686782, 7.07123218],\n",
       "        [7.07596915, 7.02073085],\n",
       "        [6.88823639, 6.83446361],\n",
       "        [6.98938118, 6.93481882],\n",
       "        [6.96413263, 6.90976737],\n",
       "        [7.16496653, 7.10903347],\n",
       "        [7.4906377 , 7.4321623 ],\n",
       "        [6.87172193, 6.81807807],\n",
       "        [6.50719911, 6.45640089],\n",
       "        [6.89581597, 6.84198403],\n",
       "        [6.95886205, 6.90453795],\n",
       "        [6.65808806, 6.60611194],\n",
       "        [7.3797549 , 7.3221451 ],\n",
       "        [7.32348526, 7.26631474],\n",
       "        [7.07627033, 7.02102967],\n",
       "        [6.9434519 , 6.8892481 ],\n",
       "        [7.31756214, 7.26043786],\n",
       "        [6.55347975, 6.50232025],\n",
       "        [7.25541959, 7.19878041],\n",
       "        [6.90424889, 6.85035111],\n",
       "        [6.92538137, 6.87131863],\n",
       "        [7.14267954, 7.08692046],\n",
       "        [6.82579265, 6.77250735],\n",
       "        [6.66486451, 6.61283549],\n",
       "        [7.34421618, 7.28688382],\n",
       "        [6.96649183, 6.91210817],\n",
       "        [7.22635615, 7.16994385],\n",
       "        [6.95344089, 6.89915911],\n",
       "        [7.01352542, 6.95877458],\n",
       "        [7.19207233, 7.13592767]]))"
      ]
     },
     "execution_count": 4,
     "metadata": {},
     "output_type": "execute_result"
    }
   ],
   "source": [
    "val=stats.chi2_contingency(df)\n",
    "val"
   ]
  },
  {
   "cell_type": "code",
   "execution_count": 5,
   "metadata": {},
   "outputs": [
    {
     "name": "stdout",
     "output_type": "stream",
     "text": [
      "Observed Values :-\n",
      " [[6.809  6.7703]\n",
      " [6.4376 7.5093]\n",
      " [6.9157 6.73  ]\n",
      " [7.3012 6.7878]\n",
      " [7.4488 7.1522]\n",
      " [7.3871 6.811 ]\n",
      " [6.8755 7.2212]\n",
      " [7.0621 6.6606]\n",
      " [6.684  7.2402]\n",
      " [6.8236 7.0503]\n",
      " [7.393  6.881 ]\n",
      " [7.5169 7.4059]\n",
      " [6.9246 6.7652]\n",
      " [6.9256 6.038 ]\n",
      " [6.5797 7.1581]\n",
      " [6.8394 7.024 ]\n",
      " [6.597  6.6672]\n",
      " [7.2705 7.4314]\n",
      " [7.2828 7.307 ]\n",
      " [7.3495 6.7478]\n",
      " [6.9438 6.8889]\n",
      " [7.156  7.422 ]\n",
      " [6.5341 6.5217]\n",
      " [7.2854 7.1688]\n",
      " [6.9952 6.7594]\n",
      " [6.8568 6.9399]\n",
      " [7.2163 7.0133]\n",
      " [6.6801 6.9182]\n",
      " [6.9431 6.3346]\n",
      " [7.0852 7.5459]\n",
      " [6.7794 7.0992]\n",
      " [7.2783 7.118 ]\n",
      " [7.1561 6.6965]\n",
      " [7.3943 6.578 ]\n",
      " [6.9405 7.3875]]\n"
     ]
    }
   ],
   "source": [
    "#Observed Values\n",
    "Observed_Values = df.values \n",
    "print(\"Observed Values :-\\n\",Observed_Values)"
   ]
  },
  {
   "cell_type": "code",
   "execution_count": 6,
   "metadata": {},
   "outputs": [
    {
     "data": {
      "text/plain": [
       "array([[6.81625543, 6.76304457],\n",
       "       [7.00077565, 6.94612435],\n",
       "       [6.84958552, 6.79611448],\n",
       "       [7.07210406, 7.01689594],\n",
       "       [7.32910721, 7.27189279],\n",
       "       [7.12686782, 7.07123218],\n",
       "       [7.07596915, 7.02073085],\n",
       "       [6.88823639, 6.83446361],\n",
       "       [6.98938118, 6.93481882],\n",
       "       [6.96413263, 6.90976737],\n",
       "       [7.16496653, 7.10903347],\n",
       "       [7.4906377 , 7.4321623 ],\n",
       "       [6.87172193, 6.81807807],\n",
       "       [6.50719911, 6.45640089],\n",
       "       [6.89581597, 6.84198403],\n",
       "       [6.95886205, 6.90453795],\n",
       "       [6.65808806, 6.60611194],\n",
       "       [7.3797549 , 7.3221451 ],\n",
       "       [7.32348526, 7.26631474],\n",
       "       [7.07627033, 7.02102967],\n",
       "       [6.9434519 , 6.8892481 ],\n",
       "       [7.31756214, 7.26043786],\n",
       "       [6.55347975, 6.50232025],\n",
       "       [7.25541959, 7.19878041],\n",
       "       [6.90424889, 6.85035111],\n",
       "       [6.92538137, 6.87131863],\n",
       "       [7.14267954, 7.08692046],\n",
       "       [6.82579265, 6.77250735],\n",
       "       [6.66486451, 6.61283549],\n",
       "       [7.34421618, 7.28688382],\n",
       "       [6.96649183, 6.91210817],\n",
       "       [7.22635615, 7.16994385],\n",
       "       [6.95344089, 6.89915911],\n",
       "       [7.01352542, 6.95877458],\n",
       "       [7.19207233, 7.13592767]])"
      ]
     },
     "execution_count": 6,
     "metadata": {},
     "output_type": "execute_result"
    }
   ],
   "source": [
    "Expected_Values=val[3]\n",
    "Expected_Values"
   ]
  },
  {
   "cell_type": "code",
   "execution_count": 7,
   "metadata": {},
   "outputs": [
    {
     "name": "stdout",
     "output_type": "stream",
     "text": [
      "Degree of Freedom:- 1\n"
     ]
    }
   ],
   "source": [
    "no_of_rows=len(df.iloc[0:2,0])\n",
    "no_of_columns=len(df.iloc[0,0:2])\n",
    "ddof=(no_of_rows-1)*(no_of_columns-1)\n",
    "print(\"Degree of Freedom:-\",ddof)\n",
    "alpha = 0.05"
   ]
  },
  {
   "cell_type": "code",
   "execution_count": 8,
   "metadata": {},
   "outputs": [],
   "source": [
    "from scipy.stats import chi2\n",
    "chi_square=sum([(o-e)**2./e for o,e in zip(Observed_Values,Expected_Values)])\n",
    "chi_square_statistic=chi_square[0]+chi_square[1]"
   ]
  },
  {
   "cell_type": "code",
   "execution_count": 9,
   "metadata": {},
   "outputs": [
    {
     "name": "stdout",
     "output_type": "stream",
     "text": [
      "chi-square statistic:- 0.45428343115981107\n"
     ]
    }
   ],
   "source": [
    "print(\"chi-square statistic:-\",chi_square_statistic)"
   ]
  },
  {
   "cell_type": "code",
   "execution_count": 10,
   "metadata": {},
   "outputs": [
    {
     "name": "stdout",
     "output_type": "stream",
     "text": [
      "critical_value: 3.841458820694124\n"
     ]
    }
   ],
   "source": [
    "critical_value=chi2.ppf(q=1-alpha,df=ddof)\n",
    "print('critical_value:',critical_value)"
   ]
  },
  {
   "cell_type": "code",
   "execution_count": 11,
   "metadata": {},
   "outputs": [
    {
     "name": "stdout",
     "output_type": "stream",
     "text": [
      "p-value: 0.5003078089115751\n",
      "Significance level:  0.05\n",
      "Degree of Freedom:  1\n",
      "p-value: 0.5003078089115751\n"
     ]
    }
   ],
   "source": [
    "#p-value\n",
    "p_value=1-chi2.cdf(x=chi_square_statistic,df=ddof)\n",
    "print('p-value:',p_value)\n",
    "print('Significance level: ',alpha)\n",
    "print('Degree of Freedom: ',ddof)\n",
    "print('p-value:',p_value)"
   ]
  },
  {
   "cell_type": "code",
   "execution_count": 12,
   "metadata": {},
   "outputs": [
    {
     "name": "stdout",
     "output_type": "stream",
     "text": [
      "Interpret by critical value\n",
      "Null hypothesis cannot be rejected (variables are not related)\n"
     ]
    }
   ],
   "source": [
    "observed_chi_val = p_value\n",
    "#if observed chi-square < critical chi-square, then variables are not related\n",
    "#if observed chi-square > critical chi-square, then variables are not independent (and hence may be related).\n",
    "print('Interpret by critical value')\n",
    "if observed_chi_val <= critical_value:\n",
    "    # observed value is not in critical area therefore we accept null hypothesis\n",
    "    print ('Null hypothesis cannot be rejected (variables are not related)')\n",
    "else:\n",
    "    # observed value is in critical area therefore we reject null hypothesis\n",
    "    print ('Null hypothesis cannot be excepted (variables are not independent)')"
   ]
  },
  {
   "cell_type": "code",
   "execution_count": 13,
   "metadata": {},
   "outputs": [],
   "source": [
    "##Inference: As (p_value=0.500) > (α = 0.05); Accept Null Hypothesis i.e. μ1 = μ2 ( Thus, there is no difference in diameters of cutlets between two unit"
   ]
  },
  {
   "cell_type": "code",
   "execution_count": 14,
   "metadata": {},
   "outputs": [],
   "source": [
    "## Question 2 : To find the buyers ratio between male and female in different regions."
   ]
  },
  {
   "cell_type": "code",
   "execution_count": 15,
   "metadata": {},
   "outputs": [
    {
     "data": {
      "text/html": [
       "<div>\n",
       "<style scoped>\n",
       "    .dataframe tbody tr th:only-of-type {\n",
       "        vertical-align: middle;\n",
       "    }\n",
       "\n",
       "    .dataframe tbody tr th {\n",
       "        vertical-align: top;\n",
       "    }\n",
       "\n",
       "    .dataframe thead th {\n",
       "        text-align: right;\n",
       "    }\n",
       "</style>\n",
       "<table border=\"1\" class=\"dataframe\">\n",
       "  <thead>\n",
       "    <tr style=\"text-align: right;\">\n",
       "      <th></th>\n",
       "      <th>Observed Values</th>\n",
       "      <th>East</th>\n",
       "      <th>West</th>\n",
       "      <th>North</th>\n",
       "      <th>South</th>\n",
       "    </tr>\n",
       "  </thead>\n",
       "  <tbody>\n",
       "    <tr>\n",
       "      <th>0</th>\n",
       "      <td>Males</td>\n",
       "      <td>50</td>\n",
       "      <td>142</td>\n",
       "      <td>131</td>\n",
       "      <td>70</td>\n",
       "    </tr>\n",
       "    <tr>\n",
       "      <th>1</th>\n",
       "      <td>Females</td>\n",
       "      <td>435</td>\n",
       "      <td>1523</td>\n",
       "      <td>1356</td>\n",
       "      <td>750</td>\n",
       "    </tr>\n",
       "  </tbody>\n",
       "</table>\n",
       "</div>"
      ],
      "text/plain": [
       "  Observed Values  East  West  North  South\n",
       "0           Males    50   142    131     70\n",
       "1         Females   435  1523   1356    750"
      ]
     },
     "execution_count": 15,
     "metadata": {},
     "output_type": "execute_result"
    }
   ],
   "source": [
    "ratio=df=pd.read_csv(\"C:/Users/khann/OneDrive/Desktop/excel r assignments/BuyerRatio.csv\")\n",
    "ratio"
   ]
  },
  {
   "cell_type": "code",
   "execution_count": 16,
   "metadata": {},
   "outputs": [
    {
     "name": "stdout",
     "output_type": "stream",
     "text": [
      "[[50, 142, 131, 70], [435, 1523, 1356, 750]]\n"
     ]
    }
   ],
   "source": [
    "alpha=0.05\n",
    "Male = [50,142,131,70]\n",
    "Female=[435,1523,1356,750]\n",
    "Sales=[Male,Female]\n",
    "print(Sales)"
   ]
  },
  {
   "cell_type": "code",
   "execution_count": 17,
   "metadata": {},
   "outputs": [
    {
     "name": "stdout",
     "output_type": "stream",
     "text": [
      "Test t=1.595946 p-value=0.660309\n",
      "we accept null hypothesis\n"
     ]
    }
   ],
   "source": [
    "chiStats = sp.stats.chi2_contingency(Sales)\n",
    "print('Test t=%f p-value=%f' % (chiStats[0], chiStats[1]))\n",
    "if chiStats[1] < 0.05:\n",
    "  print('we reject null hypothesis')\n",
    "else:\n",
    "  print('we accept null hypothesis')"
   ]
  },
  {
   "cell_type": "code",
   "execution_count": 18,
   "metadata": {},
   "outputs": [
    {
     "name": "stdout",
     "output_type": "stream",
     "text": [
      "critical_value: 7.814727903251179\n",
      "Interpret by critical value\n",
      "Null hypothesis cannot be rejected (variables are not related)\n"
     ]
    }
   ],
   "source": [
    "alpha = 0.05\n",
    "critical_value = sp.stats.chi2.ppf(q = 1 - alpha,df=chiStats[2])\n",
    "\n",
    "print('critical_value:',critical_value)\n",
    "# Find the critical value for 95% confidence*\n",
    "                      #degree of freedom\n",
    "\n",
    "observed_chi_val = chiStats[0]\n",
    "#if observed chi-square < critical chi-square, then variables are not related\n",
    "#if observed chi-square > critical chi-square, then variables are not independent (and hence may be related).\n",
    "print('Interpret by critical value')\n",
    "if observed_chi_val <= critical_value:\n",
    "    # observed value is not in critical area therefore we accept null hypothesis\n",
    "    print ('Null hypothesis cannot be rejected (variables are not related)')\n",
    "else:\n",
    "    # observed value is in critical area therefore we reject null hypothesis\n",
    "    print ('Null hypothesis cannot be excepted (variables are not independent)')"
   ]
  },
  {
   "cell_type": "code",
   "execution_count": 19,
   "metadata": {},
   "outputs": [],
   "source": [
    "##Inference : proportion of male and female across regions is same"
   ]
  },
  {
   "cell_type": "code",
   "execution_count": null,
   "metadata": {},
   "outputs": [],
   "source": []
  }
 ],
 "metadata": {
  "kernelspec": {
   "display_name": "Python 3",
   "language": "python",
   "name": "python3"
  },
  "language_info": {
   "codemirror_mode": {
    "name": "ipython",
    "version": 3
   },
   "file_extension": ".py",
   "mimetype": "text/x-python",
   "name": "python",
   "nbconvert_exporter": "python",
   "pygments_lexer": "ipython3",
   "version": "3.8.5"
  }
 },
 "nbformat": 4,
 "nbformat_minor": 4
}
